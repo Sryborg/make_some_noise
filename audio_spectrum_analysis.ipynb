{
 "cells": [
  {
   "cell_type": "markdown",
   "id": "92576738",
   "metadata": {},
   "source": [
    "&nbsp;"
   ]
  },
  {
   "cell_type": "markdown",
   "id": "46cf6899",
   "metadata": {},
   "source": [
    "# Audio Analysis Basics"
   ]
  },
  {
   "cell_type": "markdown",
   "id": "55addac8",
   "metadata": {},
   "source": [
    "This notebook is inspired from a tutorial that I was following for pyaudio"
   ]
  },
  {
   "cell_type": "markdown",
   "id": "556ef944",
   "metadata": {},
   "source": [
    "### Imports"
   ]
  },
  {
   "cell_type": "code",
   "execution_count": 73,
   "id": "5ce4a4ea",
   "metadata": {},
   "outputs": [],
   "source": [
    "import pyaudio\n",
    "import struct\n",
    "import numpy as np\n",
    "import matplotlib.pyplot as plt\n",
    "import wave"
   ]
  },
  {
   "cell_type": "code",
   "execution_count": 74,
   "id": "8a68422e",
   "metadata": {},
   "outputs": [],
   "source": [
    "%matplotlib inline"
   ]
  },
  {
   "cell_type": "markdown",
   "id": "150dff95",
   "metadata": {},
   "source": [
    "### Basic wave plotting"
   ]
  },
  {
   "cell_type": "code",
   "execution_count": 75,
   "id": "d7953e30",
   "metadata": {},
   "outputs": [],
   "source": [
    "chunk = 1024 * 4\n",
    "data_format = pyaudio.paInt16\n",
    "channels = 1\n",
    "rate = 44100"
   ]
  },
  {
   "cell_type": "code",
   "execution_count": 76,
   "id": "499cdbb5",
   "metadata": {},
   "outputs": [],
   "source": [
    "pyaudio_obj = pyaudio.PyAudio()\n",
    "\n",
    "stream = pyaudio_obj.open(\n",
    "    format=data_format,\n",
    "    channels = channels,\n",
    "    rate = rate,\n",
    "    input = True,\n",
    "    output = True,\n",
    "    frames_per_buffer=chunk\n",
    ")"
   ]
  },
  {
   "cell_type": "code",
   "execution_count": 77,
   "id": "d1c17aa0",
   "metadata": {},
   "outputs": [],
   "source": [
    "data = stream.read(chunk)"
   ]
  },
  {
   "cell_type": "code",
   "execution_count": 78,
   "id": "d1c20823",
   "metadata": {},
   "outputs": [
    {
     "data": {
      "text/plain": [
       "8192"
      ]
     },
     "execution_count": 78,
     "metadata": {},
     "output_type": "execute_result"
    }
   ],
   "source": [
    "len(data)"
   ]
  },
  {
   "cell_type": "code",
   "execution_count": 79,
   "id": "0eb220bc",
   "metadata": {},
   "outputs": [
    {
     "data": {
      "text/plain": [
       "array([-101, -127,   94, ..., -123,   87, -124], dtype=int8)"
      ]
     },
     "execution_count": 79,
     "metadata": {},
     "output_type": "execute_result"
    }
   ],
   "source": [
    "data_int = np.array(struct.unpack(str(2  * chunk) + \"B\", data), dtype=\"b\") + 127\n",
    "data_int"
   ]
  },
  {
   "cell_type": "code",
   "execution_count": 80,
   "id": "c571e718",
   "metadata": {},
   "outputs": [
    {
     "data": {
      "image/png": "[encoded data removed]",
      "text/plain": [
       "<Figure size 432x288 with 1 Axes>"
      ]
     },
     "metadata": {
      "needs_background": "light"
     },
     "output_type": "display_data"
    }
   ],
   "source": [
    "fig, ax = plt.subplots()\n",
    "ax.plot(data_int, '-')\n",
    "plt.show()"
   ]
  },
  {
   "cell_type": "markdown",
   "id": "4845145d",
   "metadata": {},
   "source": [
    "### Real-time wave plotting"
   ]
  },
  {
   "cell_type": "code",
   "execution_count": 81,
   "id": "4ef125f5",
   "metadata": {},
   "outputs": [],
   "source": [
    "# %matplotlib tk\n",
    "%matplotlib inline"
   ]
  },
  {
   "cell_type": "code",
   "execution_count": null,
   "id": "44bd23ed",
   "metadata": {},
   "outputs": [],
   "source": [
    "fig, ax = plt.subplots()\n",
    "\n",
    "x = np.arange(0, 2*chunk, 2)\n",
    "line, = ax.plot(x, np.random.rand(chunk))\n",
    "\n",
    "ax.set_ylim(0, 255)\n",
    "ax.set_xlim(0, chunk)\n",
    "\n",
    "while True:\n",
    "    data = stream.read(chunk)\n",
    "    data_int = np.array(struct.unpack(str(2  * chunk) + 'B', data), dtype=\"b\")[::2] #+ 127\n",
    "    line.set_ydata(data_int)\n",
    "    fig.canvas.draw()\n",
    "    fig.canvas.flush_events()"
   ]
  },
  {
   "cell_type": "markdown",
   "id": "a1d0d756",
   "metadata": {},
   "source": [
    "### Saving the mic input to drive"
   ]
  },
  {
   "cell_type": "code",
   "execution_count": 83,
   "id": "37be5fe8",
   "metadata": {},
   "outputs": [],
   "source": [
    "p = pyaudio.PyAudio()\n",
    "\n",
    "stream = p.open(format=data_format,\n",
    "                channels=channels,\n",
    "                rate=rate,\n",
    "                input=True,\n",
    "                frames_per_buffer=chunk\n",
    ")"
   ]
  },
  {
   "cell_type": "code",
   "execution_count": 69,
   "id": "cbaf0e73",
   "metadata": {},
   "outputs": [],
   "source": [
    "record_for_seconds = 5\n",
    "output_filename = \"output.wav\""
   ]
  },
  {
   "cell_type": "code",
   "execution_count": 70,
   "id": "4789e4be",
   "metadata": {},
   "outputs": [
    {
     "name": "stdout",
     "output_type": "stream",
     "text": [
      "* recording\n",
      "* done recording\n"
     ]
    }
   ],
   "source": [
    "print(\"* recording\")\n",
    "\n",
    "frames = []\n",
    "\n",
    "for i in range(0, int(rate / chunk * record_for_seconds)):\n",
    "    data = stream.read(chunk)\n",
    "    frames.append(data)\n",
    "\n",
    "print(\"* done recording\")\n",
    "stream.stop_stream()\n",
    "stream.close()\n",
    "p.terminate()"
   ]
  },
  {
   "cell_type": "code",
   "execution_count": 71,
   "id": "493a9da8",
   "metadata": {},
   "outputs": [],
   "source": [
    "wf = wave.open(WAVE_OUTPUT_FILENAME, 'wb')\n",
    "wf.setnchannels(channels)\n",
    "wf.setsampwidth(p.get_sample_size(data_format))\n",
    "wf.setframerate(rate)\n",
    "wf.writeframes(b''.join(frames))\n",
    "wf.close()"
   ]
  },
  {
   "cell_type": "code",
   "execution_count": null,
   "id": "51df3699",
   "metadata": {},
   "outputs": [],
   "source": []
  },
  {
   "cell_type": "markdown",
   "id": "09080201",
   "metadata": {},
   "source": [
    "### Fast Fourier Transform on mic input"
   ]
  },
  {
   "cell_type": "code",
   "execution_count": null,
   "id": "c9d91a9a",
   "metadata": {},
   "outputs": [],
   "source": []
  },
  {
   "cell_type": "code",
   "execution_count": null,
   "id": "358ee5d4",
   "metadata": {},
   "outputs": [],
   "source": []
  }
 ],
 "metadata": {
  "kernelspec": {
   "display_name": "Python 3",
   "language": "python",
   "name": "python3"
  },
  "language_info": {
   "codemirror_mode": {
    "name": "ipython",
    "version": 3
   },
   "file_extension": ".py",
   "mimetype": "text/x-python",
   "name": "python",
   "nbconvert_exporter": "python",
   "pygments_lexer": "ipython3",
   "version": "3.8.2"
  }
 },
 "nbformat": 4,
 "nbformat_minor": 5
}
